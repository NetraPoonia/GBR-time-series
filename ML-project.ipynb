{
 "cells": [
  {
   "cell_type": "code",
   "execution_count": 1,
   "id": "8264933d-1f84-4d50-b2ad-130c299a27a2",
   "metadata": {},
   "outputs": [],
   "source": [
    "import pandas as pd\n",
    "import numpy as np\n",
    "import matplotlib.pyplot as plt\n",
    "import os"
   ]
  },
  {
   "cell_type": "code",
   "execution_count": 2,
   "id": "13b6c4d0-50a3-43c9-a8df-70e1c602ab0f",
   "metadata": {},
   "outputs": [],
   "source": [
    "pollutants=['PM2.5 (ug/m3)','PM10 (ug/m3)','NO2 (ug/m3)','SO2 (ug/m3)','CO_ug (mg/m3)','ozone']"
   ]
  },
  {
   "cell_type": "markdown",
   "id": "ab1937a0-c3f9-44c1-9769-b663b760a3cc",
   "metadata": {},
   "source": [
    "## Train"
   ]
  },
  {
   "cell_type": "code",
   "execution_count": 3,
   "id": "b563e284-1e52-4af8-94db-114a434f5a0a",
   "metadata": {},
   "outputs": [],
   "source": [
    "df = pd.read_csv('train_delhi_aqi_new.csv')"
   ]
  },
  {
   "cell_type": "code",
   "execution_count": 4,
   "id": "0b945e02-1b91-47e8-b2ee-f61717b13f09",
   "metadata": {},
   "outputs": [
    {
     "data": {
      "text/html": [
       "<div>\n",
       "<style scoped>\n",
       "    .dataframe tbody tr th:only-of-type {\n",
       "        vertical-align: middle;\n",
       "    }\n",
       "\n",
       "    .dataframe tbody tr th {\n",
       "        vertical-align: top;\n",
       "    }\n",
       "\n",
       "    .dataframe thead th {\n",
       "        text-align: right;\n",
       "    }\n",
       "</style>\n",
       "<table border=\"1\" class=\"dataframe\">\n",
       "  <thead>\n",
       "    <tr style=\"text-align: right;\">\n",
       "      <th></th>\n",
       "      <th>PM2_5</th>\n",
       "      <th>PM10</th>\n",
       "      <th>NO2</th>\n",
       "      <th>SO2</th>\n",
       "      <th>CO_ug</th>\n",
       "      <th>Ozone</th>\n",
       "      <th>Temp</th>\n",
       "      <th>RH</th>\n",
       "      <th>WS</th>\n",
       "      <th>BP</th>\n",
       "      <th>WD</th>\n",
       "      <th>AQI (PM2.5)</th>\n",
       "    </tr>\n",
       "  </thead>\n",
       "  <tbody>\n",
       "    <tr>\n",
       "      <th>0</th>\n",
       "      <td>142.70</td>\n",
       "      <td>390.00</td>\n",
       "      <td>17.92</td>\n",
       "      <td>2.78</td>\n",
       "      <td>0.86922</td>\n",
       "      <td>39.24</td>\n",
       "      <td>23.098722</td>\n",
       "      <td>38.61</td>\n",
       "      <td>1.45</td>\n",
       "      <td>942.72473</td>\n",
       "      <td>243.40</td>\n",
       "      <td>195.947367</td>\n",
       "    </tr>\n",
       "    <tr>\n",
       "      <th>1</th>\n",
       "      <td>130.43</td>\n",
       "      <td>326.85</td>\n",
       "      <td>17.61</td>\n",
       "      <td>2.69</td>\n",
       "      <td>0.86922</td>\n",
       "      <td>30.93</td>\n",
       "      <td>23.098722</td>\n",
       "      <td>39.48</td>\n",
       "      <td>1.89</td>\n",
       "      <td>942.72473</td>\n",
       "      <td>250.31</td>\n",
       "      <td>189.489470</td>\n",
       "    </tr>\n",
       "    <tr>\n",
       "      <th>2</th>\n",
       "      <td>114.45</td>\n",
       "      <td>274.28</td>\n",
       "      <td>24.29</td>\n",
       "      <td>2.45</td>\n",
       "      <td>0.86922</td>\n",
       "      <td>26.15</td>\n",
       "      <td>23.098722</td>\n",
       "      <td>41.33</td>\n",
       "      <td>1.34</td>\n",
       "      <td>942.72473</td>\n",
       "      <td>237.67</td>\n",
       "      <td>181.078946</td>\n",
       "    </tr>\n",
       "    <tr>\n",
       "      <th>3</th>\n",
       "      <td>148.47</td>\n",
       "      <td>292.00</td>\n",
       "      <td>37.68</td>\n",
       "      <td>2.50</td>\n",
       "      <td>0.86922</td>\n",
       "      <td>22.16</td>\n",
       "      <td>23.098722</td>\n",
       "      <td>48.07</td>\n",
       "      <td>1.45</td>\n",
       "      <td>942.72473</td>\n",
       "      <td>234.44</td>\n",
       "      <td>198.984211</td>\n",
       "    </tr>\n",
       "    <tr>\n",
       "      <th>4</th>\n",
       "      <td>151.22</td>\n",
       "      <td>449.30</td>\n",
       "      <td>46.61</td>\n",
       "      <td>3.21</td>\n",
       "      <td>0.86922</td>\n",
       "      <td>21.95</td>\n",
       "      <td>23.098722</td>\n",
       "      <td>51.32</td>\n",
       "      <td>2.34</td>\n",
       "      <td>942.72473</td>\n",
       "      <td>238.67</td>\n",
       "      <td>200.820001</td>\n",
       "    </tr>\n",
       "  </tbody>\n",
       "</table>\n",
       "</div>"
      ],
      "text/plain": [
       "    PM2_5    PM10    NO2   SO2    CO_ug  Ozone       Temp     RH    WS  \\\n",
       "0  142.70  390.00  17.92  2.78  0.86922  39.24  23.098722  38.61  1.45   \n",
       "1  130.43  326.85  17.61  2.69  0.86922  30.93  23.098722  39.48  1.89   \n",
       "2  114.45  274.28  24.29  2.45  0.86922  26.15  23.098722  41.33  1.34   \n",
       "3  148.47  292.00  37.68  2.50  0.86922  22.16  23.098722  48.07  1.45   \n",
       "4  151.22  449.30  46.61  3.21  0.86922  21.95  23.098722  51.32  2.34   \n",
       "\n",
       "          BP      WD  AQI (PM2.5)  \n",
       "0  942.72473  243.40   195.947367  \n",
       "1  942.72473  250.31   189.489470  \n",
       "2  942.72473  237.67   181.078946  \n",
       "3  942.72473  234.44   198.984211  \n",
       "4  942.72473  238.67   200.820001  "
      ]
     },
     "execution_count": 4,
     "metadata": {},
     "output_type": "execute_result"
    }
   ],
   "source": [
    "df.head()"
   ]
  },
  {
   "cell_type": "code",
   "execution_count": 5,
   "id": "c862f406-cc9e-4617-8b62-fc044b428f73",
   "metadata": {},
   "outputs": [
    {
     "data": {
      "text/plain": [
       "Index(['PM2_5', 'PM10', 'NO2', 'SO2', 'CO_ug', 'Ozone', 'Temp', 'RH', 'WS',\n",
       "       'BP', 'WD', 'AQI (PM2.5)'],\n",
       "      dtype='object')"
      ]
     },
     "execution_count": 5,
     "metadata": {},
     "output_type": "execute_result"
    }
   ],
   "source": [
    "df.columns"
   ]
  },
  {
   "cell_type": "markdown",
   "id": "07a281a9-bb79-41e2-abfe-a60ab6f9f316",
   "metadata": {},
   "source": [
    "## Normalization"
   ]
  },
  {
   "cell_type": "code",
   "execution_count": 6,
   "id": "4a4e1690-a151-4517-9221-8ed3605895c2",
   "metadata": {},
   "outputs": [],
   "source": [
    "from sklearn.preprocessing import MinMaxScaler\n",
    "scaler = MinMaxScaler()\n",
    "scaled_data = scaler.fit_transform(df)\n",
    "normalized_df = pd.DataFrame(scaled_data, columns=df.columns)"
   ]
  },
  {
   "cell_type": "code",
   "execution_count": 7,
   "id": "214b1d44-9996-4384-b1c2-8e568acf2e88",
   "metadata": {},
   "outputs": [
    {
     "data": {
      "text/html": [
       "<div>\n",
       "<style scoped>\n",
       "    .dataframe tbody tr th:only-of-type {\n",
       "        vertical-align: middle;\n",
       "    }\n",
       "\n",
       "    .dataframe tbody tr th {\n",
       "        vertical-align: top;\n",
       "    }\n",
       "\n",
       "    .dataframe thead th {\n",
       "        text-align: right;\n",
       "    }\n",
       "</style>\n",
       "<table border=\"1\" class=\"dataframe\">\n",
       "  <thead>\n",
       "    <tr style=\"text-align: right;\">\n",
       "      <th></th>\n",
       "      <th>PM2_5</th>\n",
       "      <th>PM10</th>\n",
       "      <th>NO2</th>\n",
       "      <th>SO2</th>\n",
       "      <th>CO_ug</th>\n",
       "      <th>Ozone</th>\n",
       "      <th>Temp</th>\n",
       "      <th>RH</th>\n",
       "      <th>WS</th>\n",
       "      <th>BP</th>\n",
       "      <th>WD</th>\n",
       "      <th>AQI (PM2.5)</th>\n",
       "    </tr>\n",
       "  </thead>\n",
       "  <tbody>\n",
       "    <tr>\n",
       "      <th>0</th>\n",
       "      <td>0.142683</td>\n",
       "      <td>0.389994</td>\n",
       "      <td>0.035823</td>\n",
       "      <td>0.013851</td>\n",
       "      <td>0.0878</td>\n",
       "      <td>0.196160</td>\n",
       "      <td>0.385005</td>\n",
       "      <td>0.386039</td>\n",
       "      <td>0.030303</td>\n",
       "      <td>0.608074</td>\n",
       "      <td>0.676084</td>\n",
       "      <td>0.391793</td>\n",
       "    </tr>\n",
       "    <tr>\n",
       "      <th>1</th>\n",
       "      <td>0.130413</td>\n",
       "      <td>0.326843</td>\n",
       "      <td>0.035203</td>\n",
       "      <td>0.013401</td>\n",
       "      <td>0.0878</td>\n",
       "      <td>0.154608</td>\n",
       "      <td>0.385005</td>\n",
       "      <td>0.394739</td>\n",
       "      <td>0.039562</td>\n",
       "      <td>0.608074</td>\n",
       "      <td>0.695280</td>\n",
       "      <td>0.378875</td>\n",
       "    </tr>\n",
       "    <tr>\n",
       "      <th>2</th>\n",
       "      <td>0.114432</td>\n",
       "      <td>0.274273</td>\n",
       "      <td>0.048564</td>\n",
       "      <td>0.012201</td>\n",
       "      <td>0.0878</td>\n",
       "      <td>0.130707</td>\n",
       "      <td>0.385005</td>\n",
       "      <td>0.413241</td>\n",
       "      <td>0.027988</td>\n",
       "      <td>0.608074</td>\n",
       "      <td>0.660166</td>\n",
       "      <td>0.362052</td>\n",
       "    </tr>\n",
       "    <tr>\n",
       "      <th>3</th>\n",
       "      <td>0.148453</td>\n",
       "      <td>0.291993</td>\n",
       "      <td>0.075346</td>\n",
       "      <td>0.012451</td>\n",
       "      <td>0.0878</td>\n",
       "      <td>0.110756</td>\n",
       "      <td>0.385005</td>\n",
       "      <td>0.480648</td>\n",
       "      <td>0.030303</td>\n",
       "      <td>0.608074</td>\n",
       "      <td>0.651193</td>\n",
       "      <td>0.397868</td>\n",
       "    </tr>\n",
       "    <tr>\n",
       "      <th>4</th>\n",
       "      <td>0.151203</td>\n",
       "      <td>0.449294</td>\n",
       "      <td>0.093207</td>\n",
       "      <td>0.016001</td>\n",
       "      <td>0.0878</td>\n",
       "      <td>0.109705</td>\n",
       "      <td>0.385005</td>\n",
       "      <td>0.513151</td>\n",
       "      <td>0.049032</td>\n",
       "      <td>0.608074</td>\n",
       "      <td>0.662944</td>\n",
       "      <td>0.401540</td>\n",
       "    </tr>\n",
       "  </tbody>\n",
       "</table>\n",
       "</div>"
      ],
      "text/plain": [
       "      PM2_5      PM10       NO2       SO2   CO_ug     Ozone      Temp  \\\n",
       "0  0.142683  0.389994  0.035823  0.013851  0.0878  0.196160  0.385005   \n",
       "1  0.130413  0.326843  0.035203  0.013401  0.0878  0.154608  0.385005   \n",
       "2  0.114432  0.274273  0.048564  0.012201  0.0878  0.130707  0.385005   \n",
       "3  0.148453  0.291993  0.075346  0.012451  0.0878  0.110756  0.385005   \n",
       "4  0.151203  0.449294  0.093207  0.016001  0.0878  0.109705  0.385005   \n",
       "\n",
       "         RH        WS        BP        WD  AQI (PM2.5)  \n",
       "0  0.386039  0.030303  0.608074  0.676084     0.391793  \n",
       "1  0.394739  0.039562  0.608074  0.695280     0.378875  \n",
       "2  0.413241  0.027988  0.608074  0.660166     0.362052  \n",
       "3  0.480648  0.030303  0.608074  0.651193     0.397868  \n",
       "4  0.513151  0.049032  0.608074  0.662944     0.401540  "
      ]
     },
     "execution_count": 7,
     "metadata": {},
     "output_type": "execute_result"
    }
   ],
   "source": [
    "normalized_df.head()"
   ]
  },
  {
   "cell_type": "code",
   "execution_count": 8,
   "id": "b8a96bd3-e826-4ffd-8350-813443c410b1",
   "metadata": {},
   "outputs": [],
   "source": [
    "X = normalized_df.drop(columns=['AQI (PM2.5)'])  # Features\n",
    "y = normalized_df['AQI (PM2.5)']  # Target"
   ]
  },
  {
   "cell_type": "markdown",
   "id": "a0c4cdaf-e086-4127-bc01-3c837597cf2e",
   "metadata": {},
   "source": [
    "## Gradient Boosting Regressor"
   ]
  },
  {
   "cell_type": "code",
   "execution_count": 9,
   "id": "e4e27d38-0d37-4e45-8dd6-256494315bed",
   "metadata": {},
   "outputs": [],
   "source": [
    "from sklearn.metrics import mean_squared_error"
   ]
  },
  {
   "cell_type": "code",
   "execution_count": 10,
   "id": "deb30d15-3ee3-45db-8725-cea5ccd42333",
   "metadata": {},
   "outputs": [
    {
     "data": {
      "text/html": [
       "<style>#sk-container-id-1 {color: black;}#sk-container-id-1 pre{padding: 0;}#sk-container-id-1 div.sk-toggleable {background-color: white;}#sk-container-id-1 label.sk-toggleable__label {cursor: pointer;display: block;width: 100%;margin-bottom: 0;padding: 0.3em;box-sizing: border-box;text-align: center;}#sk-container-id-1 label.sk-toggleable__label-arrow:before {content: \"▸\";float: left;margin-right: 0.25em;color: #696969;}#sk-container-id-1 label.sk-toggleable__label-arrow:hover:before {color: black;}#sk-container-id-1 div.sk-estimator:hover label.sk-toggleable__label-arrow:before {color: black;}#sk-container-id-1 div.sk-toggleable__content {max-height: 0;max-width: 0;overflow: hidden;text-align: left;background-color: #f0f8ff;}#sk-container-id-1 div.sk-toggleable__content pre {margin: 0.2em;color: black;border-radius: 0.25em;background-color: #f0f8ff;}#sk-container-id-1 input.sk-toggleable__control:checked~div.sk-toggleable__content {max-height: 200px;max-width: 100%;overflow: auto;}#sk-container-id-1 input.sk-toggleable__control:checked~label.sk-toggleable__label-arrow:before {content: \"▾\";}#sk-container-id-1 div.sk-estimator input.sk-toggleable__control:checked~label.sk-toggleable__label {background-color: #d4ebff;}#sk-container-id-1 div.sk-label input.sk-toggleable__control:checked~label.sk-toggleable__label {background-color: #d4ebff;}#sk-container-id-1 input.sk-hidden--visually {border: 0;clip: rect(1px 1px 1px 1px);clip: rect(1px, 1px, 1px, 1px);height: 1px;margin: -1px;overflow: hidden;padding: 0;position: absolute;width: 1px;}#sk-container-id-1 div.sk-estimator {font-family: monospace;background-color: #f0f8ff;border: 1px dotted black;border-radius: 0.25em;box-sizing: border-box;margin-bottom: 0.5em;}#sk-container-id-1 div.sk-estimator:hover {background-color: #d4ebff;}#sk-container-id-1 div.sk-parallel-item::after {content: \"\";width: 100%;border-bottom: 1px solid gray;flex-grow: 1;}#sk-container-id-1 div.sk-label:hover label.sk-toggleable__label {background-color: #d4ebff;}#sk-container-id-1 div.sk-serial::before {content: \"\";position: absolute;border-left: 1px solid gray;box-sizing: border-box;top: 0;bottom: 0;left: 50%;z-index: 0;}#sk-container-id-1 div.sk-serial {display: flex;flex-direction: column;align-items: center;background-color: white;padding-right: 0.2em;padding-left: 0.2em;position: relative;}#sk-container-id-1 div.sk-item {position: relative;z-index: 1;}#sk-container-id-1 div.sk-parallel {display: flex;align-items: stretch;justify-content: center;background-color: white;position: relative;}#sk-container-id-1 div.sk-item::before, #sk-container-id-1 div.sk-parallel-item::before {content: \"\";position: absolute;border-left: 1px solid gray;box-sizing: border-box;top: 0;bottom: 0;left: 50%;z-index: -1;}#sk-container-id-1 div.sk-parallel-item {display: flex;flex-direction: column;z-index: 1;position: relative;background-color: white;}#sk-container-id-1 div.sk-parallel-item:first-child::after {align-self: flex-end;width: 50%;}#sk-container-id-1 div.sk-parallel-item:last-child::after {align-self: flex-start;width: 50%;}#sk-container-id-1 div.sk-parallel-item:only-child::after {width: 0;}#sk-container-id-1 div.sk-dashed-wrapped {border: 1px dashed gray;margin: 0 0.4em 0.5em 0.4em;box-sizing: border-box;padding-bottom: 0.4em;background-color: white;}#sk-container-id-1 div.sk-label label {font-family: monospace;font-weight: bold;display: inline-block;line-height: 1.2em;}#sk-container-id-1 div.sk-label-container {text-align: center;}#sk-container-id-1 div.sk-container {/* jupyter's `normalize.less` sets `[hidden] { display: none; }` but bootstrap.min.css set `[hidden] { display: none !important; }` so we also need the `!important` here to be able to override the default hidden behavior on the sphinx rendered scikit-learn.org. See: https://github.com/scikit-learn/scikit-learn/issues/21755 */display: inline-block !important;position: relative;}#sk-container-id-1 div.sk-text-repr-fallback {display: none;}</style><div id=\"sk-container-id-1\" class=\"sk-top-container\"><div class=\"sk-text-repr-fallback\"><pre>GradientBoostingRegressor(random_state=42)</pre><b>In a Jupyter environment, please rerun this cell to show the HTML representation or trust the notebook. <br />On GitHub, the HTML representation is unable to render, please try loading this page with nbviewer.org.</b></div><div class=\"sk-container\" hidden><div class=\"sk-item\"><div class=\"sk-estimator sk-toggleable\"><input class=\"sk-toggleable__control sk-hidden--visually\" id=\"sk-estimator-id-1\" type=\"checkbox\" checked><label for=\"sk-estimator-id-1\" class=\"sk-toggleable__label sk-toggleable__label-arrow\">GradientBoostingRegressor</label><div class=\"sk-toggleable__content\"><pre>GradientBoostingRegressor(random_state=42)</pre></div></div></div></div></div>"
      ],
      "text/plain": [
       "GradientBoostingRegressor(random_state=42)"
      ]
     },
     "execution_count": 10,
     "metadata": {},
     "output_type": "execute_result"
    }
   ],
   "source": [
    "from sklearn.ensemble import GradientBoostingRegressor\n",
    "\n",
    "# Initialize Gradient Boosting Regressor\n",
    "gb_regressor = GradientBoostingRegressor(n_estimators=100, random_state=42) \n",
    "\n",
    "# Training Gradient Boosting Regressor\n",
    "gb_regressor.fit(X, y)"
   ]
  },
  {
   "cell_type": "markdown",
   "id": "cce0c842-e2e2-459a-9eb8-1d5de8597a3b",
   "metadata": {},
   "source": [
    "## Validation"
   ]
  },
  {
   "cell_type": "code",
   "execution_count": 11,
   "id": "75ddf1aa-fc34-45ec-b193-cac1b370afe1",
   "metadata": {},
   "outputs": [],
   "source": [
    "df_v = pd.read_csv('val_delhi_aqi_new.csv')"
   ]
  },
  {
   "cell_type": "code",
   "execution_count": 12,
   "id": "d13d0292-c3ea-4787-8f4e-96e828ff7575",
   "metadata": {},
   "outputs": [],
   "source": [
    "scaled_data_v = scaler.fit_transform(df_v)\n",
    "normalized_df_v = pd.DataFrame(scaled_data_v, columns=df.columns)"
   ]
  },
  {
   "cell_type": "code",
   "execution_count": 13,
   "id": "703a239f-0f0a-4b5e-b447-583cea27361e",
   "metadata": {},
   "outputs": [],
   "source": [
    "X_val = normalized_df_v.drop(columns=['AQI (PM2.5)'])\n",
    "y_val = normalized_df_v['AQI (PM2.5)']"
   ]
  },
  {
   "cell_type": "code",
   "execution_count": 14,
   "id": "2fe2e963-d675-44d2-b35a-949a517743c1",
   "metadata": {},
   "outputs": [
    {
     "data": {
      "text/plain": [
       "<bound method Series.info of 0         0.245274\n",
       "1         0.260077\n",
       "2         0.238423\n",
       "3         0.288781\n",
       "4         0.314201\n",
       "            ...   \n",
       "139804    0.468051\n",
       "139805    0.531882\n",
       "139806    0.455909\n",
       "139807    0.455909\n",
       "139808    0.744917\n",
       "Name: AQI (PM2.5), Length: 139809, dtype: float64>"
      ]
     },
     "execution_count": 14,
     "metadata": {},
     "output_type": "execute_result"
    }
   ],
   "source": [
    "y_val.info"
   ]
  },
  {
   "cell_type": "code",
   "execution_count": 15,
   "id": "eddcd4b6-965d-41d6-b896-04a9512a1a2e",
   "metadata": {},
   "outputs": [
    {
     "name": "stdout",
     "output_type": "stream",
     "text": [
      "Validation RMSE: 0.0014770710193058203\n"
     ]
    }
   ],
   "source": [
    "# Predictions\n",
    "y_pred_val = gb_regressor.predict(X_val)\n",
    "\n",
    "# Evaluating the model\n",
    "val_rmse = mean_squared_error(y_val, y_pred_val, squared=False)\n",
    "\n",
    "print(\"Validation RMSE:\", val_rmse)"
   ]
  },
  {
   "cell_type": "code",
   "execution_count": 16,
   "id": "cdb8d4dc-90dd-494a-bd2f-61568d7c493d",
   "metadata": {},
   "outputs": [
    {
     "name": "stdout",
     "output_type": "stream",
     "text": [
      "R-squared score: 0.9999480430028876\n"
     ]
    }
   ],
   "source": [
    "from sklearn.metrics import r2_score\n",
    "\n",
    "# Calculate R-squared score\n",
    "r2_v = r2_score(y_val, y_pred_val)\n",
    "print(\"R-squared score:\", r2_v)"
   ]
  },
  {
   "cell_type": "markdown",
   "id": "4d51edf7-6462-492b-bafa-fb5a6ccea3bb",
   "metadata": {},
   "source": [
    "## Test"
   ]
  },
  {
   "cell_type": "code",
   "execution_count": 17,
   "id": "58a4df9f-1103-4155-a464-f2bdee9f6cc7",
   "metadata": {},
   "outputs": [],
   "source": [
    "df_t = pd.read_csv('test_delhi_aqi_new.csv')"
   ]
  },
  {
   "cell_type": "code",
   "execution_count": 18,
   "id": "f097a7eb-a8e4-4d89-a539-2ec12f88e8e8",
   "metadata": {},
   "outputs": [],
   "source": [
    "scaled_data_t = scaler.fit_transform(df_t)\n",
    "normalized_df_t = pd.DataFrame(scaled_data_t, columns=df.columns)"
   ]
  },
  {
   "cell_type": "code",
   "execution_count": 19,
   "id": "8c16cbaf-0c4d-47aa-bf21-c8b4b65914fe",
   "metadata": {},
   "outputs": [],
   "source": [
    "X_test = normalized_df_t.drop(columns=['AQI (PM2.5)'])\n",
    "y_test = normalized_df_t['AQI (PM2.5)']"
   ]
  },
  {
   "cell_type": "code",
   "execution_count": 20,
   "id": "84a17111-867f-439d-babc-84afc8e42b41",
   "metadata": {},
   "outputs": [
    {
     "name": "stdout",
     "output_type": "stream",
     "text": [
      "Test RMSE: 0.0013332186033744402\n"
     ]
    }
   ],
   "source": [
    "y_pred_test = gb_regressor.predict(X_test)\n",
    "\n",
    "test_rmse = mean_squared_error(y_test, y_pred_test, squared=False)\n",
    "\n",
    "print(\"Test RMSE:\", test_rmse)"
   ]
  },
  {
   "cell_type": "code",
   "execution_count": 21,
   "id": "fdfb812b-a8e7-4dba-82b3-bea59159d261",
   "metadata": {},
   "outputs": [
    {
     "name": "stdout",
     "output_type": "stream",
     "text": [
      "R-squared score: 0.9998839755125422\n"
     ]
    }
   ],
   "source": [
    "from sklearn.metrics import r2_score\n",
    "\n",
    "r2_t = r2_score(y_test, y_pred_test)\n",
    "print(\"R-squared score:\", r2_t)"
   ]
  },
  {
   "cell_type": "code",
   "execution_count": null,
   "id": "8628698f-131d-49a3-8e0f-29fe5b01d2b4",
   "metadata": {},
   "outputs": [],
   "source": []
  }
 ],
 "metadata": {
  "kernelspec": {
   "display_name": "Python 3 (ipykernel)",
   "language": "python",
   "name": "python3"
  },
  "language_info": {
   "codemirror_mode": {
    "name": "ipython",
    "version": 3
   },
   "file_extension": ".py",
   "mimetype": "text/x-python",
   "name": "python",
   "nbconvert_exporter": "python",
   "pygments_lexer": "ipython3",
   "version": "3.10.12"
  }
 },
 "nbformat": 4,
 "nbformat_minor": 5
}
